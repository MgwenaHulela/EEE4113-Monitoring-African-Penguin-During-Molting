{
 "cells": [
  {
   "cell_type": "markdown",
   "id": "e0e739a1",
   "metadata": {},
   "source": [
    "# Server Running\n"
   ]
  },
  {
   "cell_type": "code",
   "execution_count": 1,
   "id": "61df5fbb",
   "metadata": {},
   "outputs": [
    {
     "name": "stdout",
     "output_type": "stream",
     "text": [
      " * Serving Flask app '__main__'\n",
      " * Debug mode: on\n"
     ]
    },
    {
     "name": "stderr",
     "output_type": "stream",
     "text": [
      "WARNING: This is a development server. Do not use it in a production deployment. Use a production WSGI server instead.\n",
      " * Running on all addresses (0.0.0.0)\n",
      " * Running on http://127.0.0.1:5000\n",
      " * Running on http://192.168.0.144:5000\n",
      "Press CTRL+C to quit\n",
      " * Restarting with watchdog (windowsapi)\n"
     ]
    },
    {
     "ename": "SystemExit",
     "evalue": "1",
     "output_type": "error",
     "traceback": [
      "An exception has occurred, use %tb to see the full traceback.\n",
      "\u001b[1;31mSystemExit\u001b[0m\u001b[1;31m:\u001b[0m 1\n"
     ]
    },
    {
     "name": "stderr",
     "output_type": "stream",
     "text": [
      "c:\\Users\\Zwivh\\anaconda3\\Lib\\site-packages\\IPython\\core\\interactiveshell.py:3585: UserWarning: To exit: use 'exit', 'quit', or Ctrl-D.\n",
      "  warn(\"To exit: use 'exit', 'quit', or Ctrl-D.\", stacklevel=1)\n"
     ]
    }
   ],
   "source": [
    "from flask import Flask, request, jsonify\n",
    "import os\n",
    "from datetime import datetime\n",
    "\n",
    "app = Flask(__name__)\n",
    "LOG_FILE = \"sensor_data_log.txt\"\n",
    "\n",
    "@app.route('/api/sensor', methods=['POST'])\n",
    "def receive_sensor_data():\n",
    "    try:\n",
    "        data = request.get_json()\n",
    "\n",
    "        # Ensure data is not None and contains expected fields\n",
    "        if not data:\n",
    "            raise ValueError(\"No JSON data received or JSON is empty.\")\n",
    "        \n",
    "        # Extract data with .get() for safety, providing default values if keys are missing\n",
    "        # Removed 'light' and 'pressure' as per ESP32 sender's current payload\n",
    "        rfid = data.get('rfid', 'N/A')\n",
    "        sex = data.get('sex', 'N/A') # Added sex field from the incoming JSON\n",
    "        weight = data.get('weight', 'N/A')\n",
    "        temperature = data.get('temperature', 'N/A')\n",
    "        humidity = data.get('humidity', 'N/A')\n",
    "\n",
    "        # Format the data as a log entry\n",
    "        timestamp_log = datetime.now().strftime(\"%Y-%m-%d %H:%M:%S\") # Use a different variable name to avoid confusion\n",
    "        log_entry = (\n",
    "            f\"[{timestamp_log}]\\n\"\n",
    "            f\"RFID: {rfid}\\n\"\n",
    "            f\"Sex: {sex}\\n\" # Include sex in the log\n",
    "            f\"Weight: {weight} kg\\n\"\n",
    "            f\"Temperature: {temperature} °C\\n\"\n",
    "            f\"Humidity: {humidity} %\\n\"\n",
    "            f\"{'-'*40}\\n\"\n",
    "        )\n",
    "\n",
    "        # Append to log file\n",
    "        with open(LOG_FILE, \"a\") as f:\n",
    "            f.write(log_entry)\n",
    "\n",
    "        print(\"✅ Data received and logged.\")\n",
    "        # Print the actual incoming JSON for debugging on the server side\n",
    "        print(\"Incoming JSON:\", data)\n",
    "        return jsonify({\"message\": \"Data logged successfully\"}), 200\n",
    "\n",
    "    except Exception as e:\n",
    "        print(\"❌ Error processing data:\", e) # More descriptive error message\n",
    "        # Log the raw request data for debugging if an error occurs\n",
    "        try:\n",
    "            print(\"Raw request data:\", request.data.decode('utf-8'))\n",
    "        except Exception as decode_e:\n",
    "            print(\"Could not decode raw request data:\", decode_e)\n",
    "        return jsonify({\"error\": \"Failed to process data\", \"details\": str(e)}), 400 # Include exception details\n",
    "\n",
    "if __name__ == '__main__':\n",
    "    # It's good practice to run Flask in debug mode for development,\n",
    "    # but turn it off for production.\n",
    "    app.run(host='0.0.0.0', port=5000, debug=True)"
   ]
  }
 ],
 "metadata": {
  "kernelspec": {
   "display_name": "base",
   "language": "python",
   "name": "python3"
  },
  "language_info": {
   "codemirror_mode": {
    "name": "ipython",
    "version": 3
   },
   "file_extension": ".py",
   "mimetype": "text/x-python",
   "name": "python",
   "nbconvert_exporter": "python",
   "pygments_lexer": "ipython3",
   "version": "3.12.7"
  }
 },
 "nbformat": 4,
 "nbformat_minor": 5
}
