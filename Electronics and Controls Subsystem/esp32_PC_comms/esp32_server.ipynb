{
 "cells": [
  {
   "cell_type": "code",
   "execution_count": null,
   "id": "149ec43a",
   "metadata": {},
   "outputs": [],
   "source": []
  },
  {
   "cell_type": "code",
   "execution_count": null,
   "id": "b0643ba2",
   "metadata": {},
   "outputs": [
    {
     "name": "stdout",
     "output_type": "stream",
     "text": [
      "Waiting for ESP32 connection on port 12345...\n"
     ]
    }
   ],
   "source": [
    "import socket\n",
    "\n",
    "HOST = '0.0.0.0'  # All available interfaces\n",
    "PORT = 12345\n",
    "\n",
    "with socket.socket(socket.AF_INET, socket.SOCK_STREAM) as s:\n",
    "    s.setsockopt(socket.SOL_SOCKET, socket.SO_REUSEADDR, 1)\n",
    "    s.bind((HOST, PORT))\n",
    "    s.listen()\n",
    "    print(f\"Waiting for ESP32 connection on port {PORT}...\")\n",
    "    \n",
    "    while True:\n",
    "        conn, addr = s.accept()\n",
    "        print(f\"Connected by {addr}\")\n",
    "        try:\n",
    "            while True:\n",
    "                data = conn.recv(1024)\n",
    "                if not data:\n",
    "                    break\n",
    "                print(\"Received:\", data.decode().strip())\n",
    "                # Send response back\n",
    "                conn.sendall(b\"ACK\\n\")\n",
    "        except ConnectionResetError:\n",
    "            print(\"Client disconnected\")\n",
    "        finally:\n",
    "            conn.close()"
   ]
  },
  {
   "cell_type": "markdown",
   "id": "5d3c4e87",
   "metadata": {},
   "source": []
  }
 ],
 "metadata": {
  "kernelspec": {
   "display_name": "Python 3",
   "language": "python",
   "name": "python3"
  },
  "language_info": {
   "codemirror_mode": {
    "name": "ipython",
    "version": 3
   },
   "file_extension": ".py",
   "mimetype": "text/x-python",
   "name": "python",
   "nbconvert_exporter": "python",
   "pygments_lexer": "ipython3",
   "version": "3.11.11"
  }
 },
 "nbformat": 4,
 "nbformat_minor": 5
}
