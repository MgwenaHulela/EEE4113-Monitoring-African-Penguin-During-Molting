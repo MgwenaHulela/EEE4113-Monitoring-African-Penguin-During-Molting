import torch
import torch.nn.functional as F
from torchvision import models, transforms
from PIL import Image
import matplotlib.pyplot as plt
import numpy as np
import cv2
import os

# Load model
model = models.vgg16(pretrained=True)
model.classifier[6] = torch.nn.Linear(4096, 2)  # Adjust for binary classification
model.load_state_dict(torch.load('/content/checkpoints/best_model_fold4.pt', map_location='cpu'))
model.eval()

# Hook the feature maps and gradients
feature_maps = []
gradients = []

def forward_hook(module, input, output):
    feature_maps.append(output)

def backward_hook(module, grad_input, grad_output):
    gradients.append(grad_output[0])

# Register hook to the last conv layer
target_layer = model.features[29]
target_layer.register_forward_hook(forward_hook)
target_layer.register_backward_hook(backward_hook)

# Image transform
transform = transforms.Compose([
    transforms.Resize((224, 224)),
    transforms.ToTensor(),
    transforms.Normalize([0.485, 0.456, 0.406],
                         [0.229, 0.224, 0.225])
])

# Load and preprocess image
image_path = '/content/drive/MyDrive/Molting/large (8).jpg'
image = Image.open(image_path).convert('RGB')
input_tensor = transform(image).unsqueeze(0)

# Forward pass
output = model(input_tensor)
pred_class = output.argmax(dim=1)

# Backward pass for Grad-CAM
model.zero_grad()
output[0, pred_class].backward()

# Get feature maps and gradients
features = feature_maps[0][0].detach().numpy()
grads = gradients[0][0].detach().numpy()

# Global average pooling of gradients
weights = np.mean(grads, axis=(1, 2))

# Compute weighted sum of feature maps
cam = np.zeros(features.shape[1:], dtype=np.float32)
for i, w in enumerate(weights):
    cam += w * features[i]

# ReLU and normalize
cam = np.maximum(cam, 0)
cam = cv2.resize(cam, (image.size[0], image.size[1]))
cam -= cam.min()
cam /= cam.max()

# Convert to heatmap
heatmap = cv2.applyColorMap(np.uint8(255 * cam), cv2.COLORMAP_JET)
image_np = np.array(image)
overlayed_img = cv2.addWeighted(image_np, 0.6, heatmap, 0.4, 0)

# Save and display
plt.imshow(overlayed_img)
plt.axis('off')
plt.title(f"Grad-CAM: {pred_class.item()}")
plt.show()

# Save to predictions folder
os.makedirs('/content/predictions', exist_ok=True)
cv2.imwrite('/content/predictions/gradcam_overlay.jpg', cv2.cvtColor(overlayed_img, cv2.COLOR_RGB2BGR))
