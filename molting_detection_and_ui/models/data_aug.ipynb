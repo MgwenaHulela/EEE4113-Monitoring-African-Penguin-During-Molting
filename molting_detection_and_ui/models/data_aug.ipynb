import os
import cv2
import random
import numpy as np
from pathlib import Path
from torchvision import transforms

# Define paths
molting_dir = Path('/content/cnn_validation_val/0')
output_dir = Path('/content/cnn_validation_val/0')

# Create the output directory if it doesn't exist
output_dir.mkdir(parents=True, exist_ok=True)

# Data augmentation transforms
transform = transforms.Compose([
    transforms.RandomRotation(30),  # Random rotation between -30 and 30 degrees
    transforms.RandomHorizontalFlip(),  # Random horizontal flip
    transforms.ColorJitter(brightness=0.2, contrast=0.2, saturation=0.2, hue=0.1),  # Random color adjustment
    transforms.RandomResizedCrop(128, scale=(0.8, 1.0)),  # Random crop and resize
    transforms.RandomAffine(15),  # Random affine transformation (scale, shear, rotate)
])

# Function to apply augmentations and save new images
def augment_and_save(image, image_path, output_folder):
    # Convert to PIL Image for transforms
    pil_image = transforms.ToPILImage()(image)

    # Apply augmentation
    augmented_image = transform(pil_image)

    # Save the augmented image
    output_path = output_folder / f"{image_path.stem}_aug_{random.randint(0, 10000)}.jpg"
    augmented_image.save(output_path)

# Get all images in class 0
molting_images = list(molting_dir.glob('*.jpg')) + list(molting_dir.glob('*.png'))

# Augment images until we have at least 4000
total_images = len(molting_images)
print(f"Initial number of molting images: {total_images}")

# If we have fewer than 4000 images, apply augmentation
target_images = 4000
augmented_images_count = 0

while total_images + augmented_images_count < target_images:
    image = cv2.imread(str(molting_images[augmented_images_count % total_images]))  # Loop through images
    if image is None:
        continue
    augment_and_save(image, molting_images[augmented_images_count % total_images], output_dir)
    augmented_images_count += 1

print(f"✅ Augmented and saved {augmented_images_count} new images. Now you have {total_images + augmented_images_count} molting images.")
